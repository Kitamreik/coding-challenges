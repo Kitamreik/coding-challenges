{
 "cells": [
  {
   "cell_type": "markdown",
   "metadata": {},
   "source": [
    "This is Week One of the Headstarter internship. Note that you can have print statements to test, however you have to disable them in the problem sets.\n",
    "\n",
    "If code isn't running successfully, remove print statements."
   ]
  },
  {
   "cell_type": "markdown",
   "metadata": {},
   "source": [
    "# ROOK LEVEL PROBLEMS\n",
    "\n",
    "# WEEK 1"
   ]
  },
  {
   "cell_type": "markdown",
   "metadata": {},
   "source": [
    "Problem Set 1/4, Week 1: SUM 78"
   ]
  },
  {
   "cell_type": "markdown",
   "metadata": {},
   "source": [
    "Where You Excel:\n",
    "- You Identified the Solution Well\n",
    "\n",
    "You correctly identified the need for a flag variable (in_section) to track 7-8 sections, which was crucial for the solution. Your implementation of the main logic using if-elif statements was also on point.\n",
    "- You Implemented Code Accurately\n",
    "\n",
    "Your final solution correctly handled all test cases, demonstrating a good understanding of the problem requirements. You successfully implemented the logic to ignore numbers between 7 and 8.\n",
    "- You Structured Your Plan and Thought Process\n",
    "\n",
    "Your code was well-structured with clear variable names like total_sum and in_section. The logic flow was easy to follow, with each condition clearly separated in the if-elif structure."
   ]
  },
  {
   "cell_type": "code",
   "execution_count": 3,
   "metadata": {},
   "outputs": [],
   "source": [
    "# Write a function to return the sum of the numbers in the given array 'nums', except ignore sections of numbers starting with a 7 and extending to the next 8 (every 7 will be followed by at least one 8). \n",
    "# Return 0 for no numbers.\n",
    "\n",
    "# sum78([1, 2, 2]) → 5\n",
    "# sum78([1, 2, 2, 7, 99, 99, 8]) → 5\n",
    "# sum78([1, 1, 7, 8, 2]) → 4\n",
    "\n",
    "def sum78(nums):\n",
    "    total_sum = 0;\n",
    "    in_section = False;\n",
    "    for num in nums:\n",
    "        # print(num) \n",
    "        if num == 7:\n",
    "           # print(\"flag change\")\n",
    "            in_section = True\n",
    "        elif num == 8 and in_section:\n",
    "            # print(\"end the section and start adding numbers to the sum again.\")\n",
    "            in_section = False\n",
    "            #print(\"Check\", num + total_sum) #incorrect\n",
    "            #print(\"Check 2\", num += total_sum) #incorrect \n",
    "            #print(\"Correct\", total_sum = total_sum += num)\n",
    "        elif not in_section:    \n",
    "            total_sum += num\n",
    "            #add the current number num to total_sum. This ensures that only numbers outside of the 7-8 sections are included in the sum.\n",
    "       \n",
    "    return total_sum; #which now contains the sum of all valid numbers that are not in any 7-8 sections.\n",
    "\n",
    " # Change \"===\" to \"==\" on line 13.\n",
    "\n",
    " # Change \"===\" to \"==\" on line 13.\n",
    "\n",
    " # Change \"for i in range(nums):\" to \"for num in nums:\" on line 11.\n",
    "\n",
    " # Change \"for num in range(nums):\" to \"for num in nums:\" on line 11.\n",
    "\n",
    " # Fix the invalid syntax on line 20 by changing \"num += total_sum\" to \"total_sum += num\".\n",
    "\n",
    " # Fix the invalid syntax on line 21 by changing \"total_sum += num\" to \"total_sum = total_sum + num\".\n",
    "\n",
    " # Fix the syntax error by changing \"total_sum = total_sum += num\" to \"total_sum += num\" on line 21.\n",
    "\n",
    " # Fix the invalid syntax on line 21 by changing \"total_sum = total_sum += num\" to \"total_sum += num\".\n",
    "\n",
    " # Fix the invalid syntax on line 23 by changing \"total_sum = total_sum += num\" to \"total_sum += num\"."
   ]
  },
  {
   "cell_type": "markdown",
   "metadata": {},
   "source": [
    "Needs improvement:\n",
    "- Balance Speed with Accuracy\n",
    "\n",
    "You took several iterations to reach the correct solution, which could be improved. Try to plan your approach more thoroughly before coding to reduce the number of revisions needed.\n",
    "- Boost Code Efficiency\n",
    "\n",
    "Your initial implementation included unnecessary print statements and comments, which you later removed. In future, focus on writing clean, efficient code from the start to improve your coding speed.\n",
    "- Enhance Code Quality\n",
    "\n",
    "There were some indentation errors in your earlier versions that caused the code to fail. Pay more attention to proper indentation and code formatting from the beginning to avoid such issues."
   ]
  },
  {
   "cell_type": "markdown",
   "metadata": {},
   "source": [
    "Problem Set 2/4, Week 1: Biggest Difference"
   ]
  },
  {
   "cell_type": "markdown",
   "metadata": {},
   "source": [
    "Where You Excel:\n",
    "- You Identified the Solution Well\n",
    "\n",
    "You quickly identified the core solution of finding the difference between the maximum and minimum values in the list. Your implementation using max() and min() functions was straightforward and effective for solving the problem.\n",
    "- You Implemented Code Accurately\n",
    "\n",
    "Your code correctly solved the problem for all given test cases, including the edge case of an empty list. The implementation of the main logic using max_val - min_val was accurate and produced the expected results.\n",
    "- You Structured Your Plan and Thought Process\n",
    "\n",
    "Your code structure was clear with a main if-else block to handle different cases. The comments you left, although some were commented out, show good practice in explaining your thought process and potential improvements.\n"
   ]
  },
  {
   "cell_type": "code",
   "execution_count": 4,
   "metadata": {},
   "outputs": [
    {
     "data": {
      "text/plain": [
       "0"
      ]
     },
     "execution_count": 4,
     "metadata": {},
     "output_type": "execute_result"
    }
   ],
   "source": [
    "# Given an array length 1 or more of ints, return the difference between the largest and smallest values in the array. \n",
    "\n",
    "# biggest_diff([10, 3, 5, 6]) → 7\n",
    "# biggest_diff([7, 2, 10, 9]) → 8\n",
    "# biggest_diff([2, 10, 7, 2]) → 8\n",
    "\n",
    "def biggest_diff(nums):\n",
    "    # foo = []\n",
    "    #only activate if statement for base case\n",
    "    # if nums == foo or None:\n",
    "    #      print(max(foo, default='No elements'))\n",
    "\n",
    "    #if activated, change to elif instead of if\n",
    "    if len(nums) > 0:\n",
    "    #if nums.length > 0: #incorrect syntax\n",
    "        #print(\"at least one element\")\n",
    "        max_val = max(nums);\n",
    "        #print(max_val);\n",
    "        min_val = min(nums);\n",
    "        #print(min_val);\n",
    "        diff = max_val - min_val;\n",
    "        #print(\"difference\", diff)\n",
    "        return diff;\n",
    "    else:\n",
    "        # If the list nums is empty or not provided, return 0. This ensures that the function handles edge cases gracefully without errors.\n",
    "        return 0 ;\n",
    "    \n",
    "biggest_diff([]) #base case\n",
    "\n",
    " # Change \"null\" to \"None\" in line 9 to fix the NameError.\n",
    "\n",
    " # Change line 14 to check if the length of 'nums' is greater than 0 to avoid the IndexError.\n",
    "\n",
    " # Change line 14 to \"if len(nums) > 0:\" to properly check the length of the 'nums' list."
   ]
  },
  {
   "cell_type": "markdown",
   "metadata": {},
   "source": [
    "Needs improvement:\n",
    "- Enhance Code Quality\n",
    "\n",
    "Your code could be improved by removing unnecessary semicolons at the end of lines, which are not typically used in Python. Also, consider removing commented-out code and unused variables like 'foo' to enhance readability.\n",
    "- Boost Code Efficiency\n",
    "\n",
    "While your solution works, it could be more efficient by avoiding separate calls to max() and min(). Consider using a single loop to find both the maximum and minimum values, which would be more efficient for larger input lists.\n",
    "- Balance Speed with Accuracy\n",
    "\n",
    "You could improve your working speed by spending less time on commented-out code and focusing on implementing the core solution more quickly. Try to avoid getting sidetracked by edge cases initially and focus on the main problem first."
   ]
  },
  {
   "cell_type": "markdown",
   "metadata": {},
   "source": [
    "Problem Set 3/4, Week 1: Cat and Dog"
   ]
  },
  {
   "cell_type": "code",
   "execution_count": null,
   "metadata": {},
   "outputs": [],
   "source": [
    "# Return True if the string \"cat\" and \"dog\" appear the same number of times in the given string.\n",
    "\n",
    "# cat_dog('catdog') → True\n",
    "# cat_dog('catcat') → False\n",
    "# cat_dog('1cat1cadodog') → True\n",
    "\n",
    "def cat_dog(s):\n",
    "    #init counters\n",
    "    count_cat = 0\n",
    "    count_dog = 0\n",
    "    for i in range(len(s) - 2):\n",
    "        #step 2: The loop should range from 0 to len(s) - 2 to ensure that we have at least three characters left in the string to check for 'cat' or 'dog'. This prevents an index out of range error.\n",
    "        if s[i : i + 3] == 'cat':\n",
    "            count_cat = count_cat + 1\n",
    "            print(\"incremented cat\", count_cat)\n",
    "        elif s[i : i + 3] == 'dog':\n",
    "            count_dog = count_dog + 1\n",
    "            print(\"incremented dog\", count_dog)\n",
    "        #loop end\n",
    "    #compare counters\n",
    "    if count_cat == count_dog:\n",
    "        print(\"counters are equal\")\n",
    "        return True\n",
    "    else:\n",
    "        print(\"imbalanced counters\")\n",
    "        return False\n",
    "\n",
    "\n",
    "\n",
    " # Line 21: Use '==' for comparison instead of '=' which is for assignment.\n",
    "\n",
    " # Line 11: Change the loop parameters to iterate over the range of the length of the string."
   ]
  },
  {
   "cell_type": "markdown",
   "metadata": {},
   "source": [
    "Where You Excel:\n",
    "- You Identified the Solution Well\n",
    "\n",
    "You quickly identified the correct approach of using counters and a loop to solve the problem. Your implementation of checking substrings using slicing (s[i : i + 3]) was particularly effective.\n",
    "\n",
    "- You Implemented Code Accurately\n",
    "\n",
    "Your code correctly solved the problem, passing all 5 test cases. The logic for counting 'cat' and 'dog' occurrences and comparing them was implemented accurately.\n",
    "\n",
    "- You Structured Your Plan and Thought Process\n",
    "\n",
    "Your code was well-structured with clear sections for initialization, counting, and comparison. The use of comments to mark different sections of the code improved readability.\n",
    "\n"
   ]
  },
  {
   "cell_type": "code",
   "execution_count": null,
   "metadata": {},
   "outputs": [],
   "source": [
    "#Final Code\n",
    "# Return True if the string \"cat\" and \"dog\" appear the same number of times in the given string.\n",
    "\n",
    "# cat_dog('catdog') → True\n",
    "# cat_dog('catcat') → False\n",
    "# cat_dog('1cat1cadodog') → True\n",
    "\n",
    "def cat_dog(s):\n",
    "    #init counters\n",
    "    count_cat = 0\n",
    "    count_dog = 0\n",
    "    for i in range(len(s) - 2):\n",
    "        if s[i : i + 3] == 'cat':\n",
    "            count_cat = count_cat + 1\n",
    "            print(\"incremented cat\", count_cat)\n",
    "        elif s[i : i + 3] == 'dog':\n",
    "            count_dog = count_dog + 1\n",
    "            print(\"incremented dog\", count_dog)\n",
    "        #loop end\n",
    "    #compare counters\n",
    "    if count_cat == count_dog:\n",
    "        print(\"counters are equal\")\n",
    "        return True\n",
    "    else:\n",
    "        print(\"imbalanced counters\")\n",
    "        return False"
   ]
  },
  {
   "cell_type": "markdown",
   "metadata": {},
   "source": [
    "Needs Improvement:\n",
    "- Boost Code Efficiency\n",
    "\n",
    "Your code included unnecessary print statements that would slow down execution in a real-world scenario. Consider removing these debug statements or using a logging system for better efficiency.\n",
    "\n",
    "- Enhance Code Quality\n",
    "\n",
    "The final comparison could be simplified by directly returning the boolean expression 'count_cat == count_dog' instead of using an if-else statement. This would make your code more concise and easier to read.\n",
    "\n",
    "- Balance Speed with Accuracy\n",
    "\n",
    "You solved the problem in about 3 minutes, which is good, but there's room for improvement. Try to increase your coding speed while maintaining accuracy to perform better in timed coding interviews.\n"
   ]
  },
  {
   "cell_type": "markdown",
   "metadata": {},
   "source": [
    "Problem Set 4/4, Week 1: Evenly Spaced"
   ]
  },
  {
   "cell_type": "code",
   "execution_count": null,
   "metadata": {},
   "outputs": [],
   "source": [
    "# Given three ints, a b c, one of them is small, one is medium and one is large. \n",
    "# Return true if the three values are evenly spaced, so the difference between small and medium is the same as the difference between medium and large.\n",
    "\n",
    "# evenlySpaced(2, 4, 6) → true\n",
    "# evenlySpaced(4, 6, 2) → true\n",
    "# evenlySpaced(4, 6, 3) → false\n",
    "\n",
    "# test case 2: 4, 6, 2, expecting: true, actual: false\n",
    "a, b, c = 4, 6, 2\n",
    "\n",
    "def evenlySpaced(a, b, c):\n",
    "    print(\"nums before\",a,b,c)\n",
    "    sorted_nums = sorted([a,b,c])\n",
    "    print(\"sorted\",sorted_nums)\n",
    "    #1st difference, between the small and medium numbers.\n",
    "    #diff1 = b - a  #psuedocode, on the right track\n",
    "    diff1 = sorted_nums[1] - sorted_nums[0]\n",
    "    print(\"1:\",diff1)\n",
    "\n",
    "\n",
    "    #2nd difference, between the medium and large numbers.\n",
    "    #diff2 = abs(c - b) #psuedocode, on the right track\n",
    "    #use the absolute value to have positive comparisons  \n",
    "\n",
    "    diff2 = sorted_nums[2] - sorted_nums[1]\n",
    "    print(\"2:\",diff2)\n",
    "    \n",
    "    #Compare differences\n",
    "    #Optimize code \n",
    "    return diff1 == diff2\n",
    "\n",
    "    #Psuedocode ok\n",
    "    # if diff1 == diff2:\n",
    "    #     print(\"equal spacing\")\n",
    "    #     return True\n",
    "    # elif diff1 < diff2 or diff1 > diff2:\n",
    "    #     print(\"not equal spacing\")\n",
    "    #     return False\n",
    "    # else: \n",
    "    #     print(\"err\")\n",
    "\n",
    "\n",
    "\n",
    " # Line 22: Fix the indentation by removing the extra space before \"return False\" to match the other lines.\n",
    "\n",
    " # Line 9: Use a list to pass all three variables to the sorted() function. Fix the syntax error in sorted(a,b,c) by using square brackets sorted([a,b,c]).\n",
    "\n",
    " # Line 25: Remove the colon after \"elif\" to fix the SyntaxError.\n",
    "\n"
   ]
  },
  {
   "cell_type": "code",
   "execution_count": null,
   "metadata": {},
   "outputs": [],
   "source": [
    "#Reference Code\n",
    "def evenlySpaced(a, b, c):\n",
    "# First, sort the numbers to find out which is small, medium, and large.\n",
    "    # The sorted function returns a list of numbers in ascending order.\n",
    "    sorted_numbers = sorted([a, b, c])\n",
    "    \n",
    "    # Calculate the difference between the first two numbers (small and medium).\n",
    "    # This is done by subtracting the smaller number from the next larger number.\n",
    "    diff1 = sorted_numbers[1] - sorted_numbers[0]\n",
    "    \n",
    "    # Calculate the difference between the last two numbers (medium and large).\n",
    "    # Again, subtract the smaller of these two from the larger one.\n",
    "    diff2 = sorted_numbers[2] - sorted_numbers[1]\n",
    "    \n",
    "    # If the two differences are equal, then the numbers are evenly spaced.\n",
    "    # We return True in this case.\n",
    "    # If they are not equal, we return False.\n",
    "    return diff1 == diff2"
   ]
  },
  {
   "cell_type": "markdown",
   "metadata": {},
   "source": [
    "Where You Excel:\n",
    "- You Identified the Solution Well\n",
    "\n",
    "You quickly identified the correct approach by sorting the numbers and comparing differences. Your solution is elegant and efficient, showing a clear understanding of the problem requirements.\n",
    "\n",
    "- You Coded Efficiently\n",
    "\n",
    "You completed the solution in under 2 minutes, demonstrating excellent coding speed. Your ability to quickly implement the correct logic is commendable and would be valuable in a timed coding interview.\n",
    "\n",
    "- You Implemented Code Accurately\n",
    "\n",
    "Your code passed all test cases on the first run, indicating a high level of accuracy. The implementation correctly handles all scenarios, including when the input numbers are not in ascending order."
   ]
  },
  {
   "cell_type": "code",
   "execution_count": null,
   "metadata": {},
   "outputs": [],
   "source": [
    "#Final Code\n",
    "# Given three ints, a b c, one of them is small, one is medium and one is large. \n",
    "# Return true if the three values are evenly spaced, so the difference between small and medium is the same as the difference between medium and large.\n",
    "\n",
    "# evenlySpaced(2, 4, 6) → true\n",
    "# evenlySpaced(4, 6, 2) → true\n",
    "# evenlySpaced(4, 6, 3) → false\n",
    "\n",
    "def evenlySpaced(a, b, c):\n",
    "    sorted_nums = sorted([a,b,c])\n",
    "\n",
    "    diff1 = sorted_nums[1] - sorted_nums[0]\n",
    "\n",
    "    diff2 = sorted_nums[2] - sorted_nums[1]\n",
    "    \n",
    "    #Compare differences\n",
    "    #Optimize code \n",
    "    return diff1 == diff2\n",
    "\n",
    "\n"
   ]
  },
  {
   "cell_type": "markdown",
   "metadata": {},
   "source": [
    "Needs Improvement:\n"
   ]
  },
  {
   "cell_type": "markdown",
   "metadata": {},
   "source": [
    "- Tighten Structure and Organization\n",
    "\n",
    "While your code is concise and effective, it could benefit from a brief comment explaining the logic. Adding a one-line comment at the beginning of the function would improve code readability and maintainability.\n",
    "- Enhance Code Quality\n",
    "\n",
    "Your variable names are clear, but consider using more descriptive names like 'sorted_numbers' instead of 'sorted_nums'. This small change would further enhance the readability of your code.\n",
    "- Boost Code Efficiency\n",
    "\n",
    "Your solution is efficient for the given problem, but in a more complex scenario, consider discussing potential optimizations. For instance, you could mention that this approach has O(n log n) time complexity due to sorting."
   ]
  },
  {
   "cell_type": "markdown",
   "metadata": {},
   "source": [
    "Problem Set 1/3, Week 1: Count Code"
   ]
  },
  {
   "cell_type": "code",
   "execution_count": null,
   "metadata": {},
   "outputs": [],
   "source": [
    "#Workbook Code\n",
    "\n",
    "# Given an input string, return the number of times that the string \"code\" appears anywhere in the string, except we'll accept any letter for the 'd', so \"cope\" and \"cooe\" count.\n",
    "\n",
    "# count_code('aaacodebbb') → 1\n",
    "# count_code('codexxcode') → 2\n",
    "# count_code('cozexxcope') → 2\n",
    "\n",
    "def count_code(s):\n",
    "    count = 0 #init count to track the pattern in s\n",
    "    for i in range(len(s) - 3):\n",
    "        #if s[i : i + 4] == \"coe\" or \"code\":\n",
    "        if s[i : i + 4] == \"code\": #passes 2 cases\n",
    "            count = count + 1\n",
    "            print(count)\n",
    "        #further statement\n",
    "        elif s[i : i + 2] == \"co\":\n",
    "            count = count + 1\n",
    "            print(\"short\",count)  \n",
    "        elif s[i : i + 3] == \"cod\":\n",
    "            print(\"case\")\n",
    "\n",
    "        #loop end\n",
    "    #return the final count\n",
    "    return count\n",
    "\n",
    "\n"
   ]
  },
  {
   "cell_type": "code",
   "execution_count": null,
   "metadata": {},
   "outputs": [],
   "source": [
    "#Refactored Code\n",
    "# Given an input string, return the number of times that the string \"code\" appears anywhere in the string, except we'll accept any letter for the 'd', so \"cope\" and \"cooe\" count.\n",
    "\n",
    "# count_code('aaacodebbb') → 1\n",
    "# count_code('codexxcode') → 2\n",
    "# count_code('cozexxcope') → 2\n",
    "\n",
    "def count_code(s):\n",
    "    count = 0 #init count to track the pattern in s\n",
    "\n",
    "    # Loop through the string, stopping 4 characters before the end to avoid index out of range errors.\n",
    "    # This is because we're looking for a pattern that is 4 characters long.\n",
    "    for i in range(len(s) - 3):\n",
    "        #if s[i : i + 4] == \"coe\" or \"code\":\n",
    "        # if s[i : i + 4] == \"code\": #passes 2 cases\n",
    "        #     count = count + 1\n",
    "        #     print(count)\n",
    "\n",
    "\n",
    "        #psuedocode - on the right track, combine both conditions\n",
    "        if s[i : i + 2] == \"co\" and s[ i + 3] == \"e\":\n",
    "            #count = count + 1 #on the right track\n",
    "            count += 1  # If the pattern matches, increment the count.\n",
    "            print(\"log count\",count)  \n",
    "\n",
    "        #loop end\n",
    "    #return the final count\n",
    "    return count"
   ]
  },
  {
   "cell_type": "code",
   "execution_count": null,
   "metadata": {},
   "outputs": [],
   "source": [
    "#Reference Code\n",
    "def count_code(s):\n",
    " # Initialize a count variable to keep track of how many times the pattern is found.\n",
    "    count = 0\n",
    "    \n",
    "    # Loop through the string, stopping 4 characters before the end to avoid index out of range errors.\n",
    "    # This is because we're looking for a pattern that is 4 characters long.\n",
    "    for i in range(len(s) - 3):\n",
    "        # Check if the first two characters are 'co' and the fourth character is 'e'.\n",
    "        # The third character can be any character, so we don't check it specifically.\n",
    "        if s[i:i+2] == 'co' and s[i+3] == 'e':\n",
    "            count += 1  # If the pattern matches, increment the count.\n",
    "    \n",
    "    # Return the final count of how many times the pattern was found.\n",
    "    return count"
   ]
  },
  {
   "cell_type": "markdown",
   "metadata": {},
   "source": [
    "Where You Excel:\n",
    "- You Identified the Solution Well\n",
    "\n",
    "You quickly identified the correct approach of using a loop to check for the pattern in the string. Your implementation of checking for 'co' at the start and 'e' at the end of each substring was spot-on.\n",
    "- You Implemented Code Accurately\n",
    "\n",
    "Your code correctly solved the problem, passing all 5 test cases. You accurately implemented the logic to count occurrences of the pattern, including the flexibility for any character in the third position.\n",
    "\n",
    "- You Structured Your Plan and Thought Process\n",
    "\n",
    "Your code was well-structured with clear variable names and logical flow. The use of comments to explain the purpose of different code sections improved readability."
   ]
  },
  {
   "cell_type": "code",
   "execution_count": null,
   "metadata": {},
   "outputs": [],
   "source": [
    "#Final Code\n",
    "# Given an input string, return the number of times that the string \"code\" appears anywhere in the string, except we'll accept any letter for the 'd', so \"cope\" and \"cooe\" count.\n",
    "\n",
    "# count_code('aaacodebbb') → 1\n",
    "# count_code('codexxcode') → 2\n",
    "# count_code('cozexxcope') → 2\n",
    "\n",
    "def count_code(s):\n",
    "    count = 0 #init count to track the pattern in s\n",
    "\n",
    "    # Loop through the string, stopping 4 characters before the end to avoid index out of range errors.\n",
    "    # This is because we're looking for a pattern that is 4 characters long.\n",
    "    for i in range(len(s) - 3):\n",
    "        #combine both conditions\n",
    "        if s[i : i + 2] == \"co\" and s[ i + 3] == \"e\":\n",
    "            count += 1  # If the pattern matches, increment the count.\n",
    "            print(\"log count\",count)  \n",
    "        #loop end\n",
    "    return count"
   ]
  },
  {
   "cell_type": "markdown",
   "metadata": {},
   "source": [
    "Needs Improvement:\n",
    "- Balance Speed with Accuracy\n",
    "\n",
    "You could improve your coding speed as it took about 3 minutes to complete the solution. Try to practice more problems to increase your typing speed and familiarity with Python syntax.\n",
    "\n",
    "-Enhance Code Quality\n",
    "\n",
    "While your code works correctly, you could enhance its quality by adding more detailed comments explaining the logic, especially for the loop and condition checking. This would improve code maintainability.\n",
    "\n",
    "- Boost Code Efficiency\n",
    "\n",
    "Your solution uses a straightforward approach, but you could explore more efficient methods. Consider using string methods like find() or regular expressions to potentially optimize the pattern matching process."
   ]
  },
  {
   "cell_type": "markdown",
   "metadata": {},
   "source": [
    "Problem Set 2/3, Week 1: Scores Clump"
   ]
  },
  {
   "cell_type": "code",
   "execution_count": null,
   "metadata": {},
   "outputs": [],
   "source": [
    "#Workbook Code\n",
    "\n",
    "# Given an array of scores sorted in increasing order, return true if the array contains 3 adjacent scores that differ from each other by at most 2, such as with [3, 4, 5] or [3, 5, 5]\n",
    "\n",
    "# scoresClump([3, 4, 5]) → true\n",
    "# scoresClump([3, 4, 6]) → false\n",
    "# scoresClump([1, 3, 5, 5]) → true\n",
    "\n",
    "\n",
    "def scoresClump(scores):\n",
    "    # Stop 2 elements before the end to avoid index out of range errors.  This is because we're looking at groups of 3 adjacent scores.\n",
    "    for i in range(len(scores)-2):\n",
    "        if scores[i] or scores[i+1] or scores[i+2]:\n",
    "            print(\"group of three\")\n",
    "            #calc diff ??\n",
    "            diff = scores[i+2] - scores[i]\n",
    "            if diff <= 2:\n",
    "                print(\"larger difference\")\n",
    "                #If a group of three scores is found where the difference is at most , immediately to indicate that such a group exists.\n",
    "                return True\n",
    "          #end loop\n",
    "    return False   #If the for loop completes without finding any group of three scores that differ from each other by at most 2, indicate that such a group does not exist in the array.\n"
   ]
  },
  {
   "cell_type": "markdown",
   "metadata": {},
   "source": [
    "Where You Excel:\n",
    "- You Structured Your Plan and Thought Process\n",
    "\n",
    "Your code is well-structured with clear comments explaining the purpose of different sections. The use of meaningful variable names like 'diff' enhances readability and makes the code easier to understand."
   ]
  },
  {
   "cell_type": "code",
   "execution_count": null,
   "metadata": {},
   "outputs": [],
   "source": [
    "#Final Code\n",
    "# Given an array of scores sorted in increasing order, return true if the array contains 3 adjacent scores that differ from each other by at most 2, such as with [3, 4, 5] or [3, 5, 5]\n",
    "\n",
    "# scoresClump([3, 4, 5]) → true\n",
    "# scoresClump([3, 4, 6]) → false\n",
    "# scoresClump([1, 3, 5, 5]) → true\n",
    "\n",
    "\n",
    "def scoresClump(scores):\n",
    "    # Stop 2 elements before the end to avoid index out of range errors.  This is because we're looking at groups of 3 adjacent scores.\n",
    "    for i in range(len(scores)-2):\n",
    "        if scores[i] or scores[i+1] or scores[i+2]:\n",
    "            diff = scores[i+2] - scores[i]\n",
    "            if diff <= 2:\n",
    "                #If a group of three scores is found where the difference is at most , immediately to indicate that such a group exists.\n",
    "                return True\n",
    "          #end loop\n",
    "    return False   #If the for loop completes without finding any group of three scores that differ from each other by at most 2, indicate that such a group does not exist in the array.\n"
   ]
  },
  {
   "cell_type": "markdown",
   "metadata": {},
   "source": [
    "Needs Improvement:\n",
    "- Boost Code Efficiency\n",
    "\n",
    "The condition 'if scores[i] or scores[i+1] or scores[i+2]' is unnecessary and always evaluates to True, adding extra computation. Remove this condition to improve efficiency and simplify your code.\n",
    "\n",
    "- Balance Speed with Accuracy\n",
    "\n",
    "You took some time to implement the solution, which could be improved. Try to practice more problems to increase your coding speed and efficiency in implementing solutions.\n",
    "\n",
    "- Enhance Code Quality\n",
    "\n",
    "The comment 'end loop' is redundant and doesn't add value to the code. Instead, focus on adding comments that explain complex logic or decisions made in the implementation."
   ]
  },
  {
   "cell_type": "markdown",
   "metadata": {},
   "source": [
    "Problem Set 3/3, Week 1: Two 2"
   ]
  },
  {
   "cell_type": "code",
   "execution_count": null,
   "metadata": {},
   "outputs": [],
   "source": [
    "#Workbook Code\n",
    "# Given a list of non-negative integers, return a list of those numbers multiplied by 2, omitting any of the resulting numbers that end in 2.\n",
    "\n",
    "# two2([1, 2, 3]) → [4, 6]\n",
    "# two2([2, 6, 11]) → [4]\n",
    "# two2([0]) → [0]\n",
    "\n",
    "def two2(nums):\n",
    "    result = [] #This list will be used to store the numbers from nums after they are multiplied by 2, but only if they meet the criteria of not ending in 2.\n",
    "    for num in nums:\n",
    "        # print(nums) \n",
    "        doubled = num * 2\n",
    "        # print(\"x2\", doubled)\n",
    "        #Convert the doubled number to an integer representation by checking its remainder when divided by 10. \n",
    "\n",
    "        \n",
    "        #some sort of condition like:  if len(nums) > 0\n",
    "\n",
    "\n",
    "        if doubled % 10 != 2:\n",
    "            #append it to the result list.\n",
    "            result.append(doubled)\n",
    "            # print(\"res after append\",result)\n",
    "        #return the result list, which contains the filtered and multiplied numbers as per the given criteria.\n",
    "        return result\n",
    "\n"
   ]
  },
  {
   "cell_type": "markdown",
   "metadata": {},
   "source": [
    "Where You Excel:\n"
   ]
  },
  {
   "cell_type": "code",
   "execution_count": 1,
   "metadata": {},
   "outputs": [],
   "source": [
    "#Final Code\n",
    "# Given a list of non-negative integers, return a list of those numbers multiplied by 2, omitting any of the resulting numbers that end in 2.\n",
    "\n",
    "# two2([1, 2, 3]) → [4, 6]\n",
    "# two2([2, 6, 11]) → [4]\n",
    "# two2([0]) → [0]\n",
    "\n",
    "def two2(nums):\n",
    "    result = [] #This list will be used to store the numbers from nums after they are multiplied by 2, but only if they meet the criteria of not ending in 2.\n",
    "    for num in nums:\n",
    "\n",
    "        doubled = num * 2\n",
    "\n",
    "        #Convert the doubled number to an integer representation by checking its remainder when divided by 10. \n",
    "        if doubled % 10 != 2:\n",
    "            #append it to the result list.\n",
    "            result.append(doubled)\n",
    "\n",
    "        return result\n",
    "\n"
   ]
  },
  {
   "cell_type": "markdown",
   "metadata": {},
   "source": [
    "Needs Improvement:\n"
   ]
  },
  {
   "cell_type": "markdown",
   "metadata": {},
   "source": [
    "# WEEK 2\n",
    "\n",
    "This is Week 2 of the Headstarter internship. Note that you can have print statements to test, however you have to disable them in for problem sets."
   ]
  }
 ],
 "metadata": {
  "kernelspec": {
   "display_name": "Python 3",
   "language": "python",
   "name": "python3"
  },
  "language_info": {
   "codemirror_mode": {
    "name": "ipython",
    "version": 3
   },
   "file_extension": ".py",
   "mimetype": "text/x-python",
   "name": "python",
   "nbconvert_exporter": "python",
   "pygments_lexer": "ipython3",
   "version": "3.9.6"
  }
 },
 "nbformat": 4,
 "nbformat_minor": 2
}
