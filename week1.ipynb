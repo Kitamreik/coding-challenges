{
 "cells": [
  {
   "cell_type": "markdown",
   "metadata": {},
   "source": [
    "This is Week One of the Headstarter internship. Note that you can have print statements to test, however you have to disable them in for problem sets."
   ]
  },
  {
   "cell_type": "markdown",
   "metadata": {},
   "source": [
    "Problem Set 1/4, Week 1: SUM 78"
   ]
  },
  {
   "cell_type": "markdown",
   "metadata": {},
   "source": [
    "Where You Excel:\n",
    "- You Identified the Solution Well\n",
    "\n",
    "You correctly identified the need for a flag variable (in_section) to track 7-8 sections, which was crucial for the solution. Your implementation of the main logic using if-elif statements was also on point.\n",
    "- You Implemented Code Accurately\n",
    "\n",
    "Your final solution correctly handled all test cases, demonstrating a good understanding of the problem requirements. You successfully implemented the logic to ignore numbers between 7 and 8.\n",
    "- You Structured Your Plan and Thought Process\n",
    "\n",
    "Your code was well-structured with clear variable names like total_sum and in_section. The logic flow was easy to follow, with each condition clearly separated in the if-elif structure."
   ]
  },
  {
   "cell_type": "code",
   "execution_count": 3,
   "metadata": {},
   "outputs": [],
   "source": [
    "# Write a function to return the sum of the numbers in the given array 'nums', except ignore sections of numbers starting with a 7 and extending to the next 8 (every 7 will be followed by at least one 8). \n",
    "# Return 0 for no numbers.\n",
    "\n",
    "# sum78([1, 2, 2]) → 5\n",
    "# sum78([1, 2, 2, 7, 99, 99, 8]) → 5\n",
    "# sum78([1, 1, 7, 8, 2]) → 4\n",
    "\n",
    "def sum78(nums):\n",
    "    total_sum = 0;\n",
    "    in_section = False;\n",
    "    for num in nums:\n",
    "        # print(num) \n",
    "        if num == 7:\n",
    "           # print(\"flag change\")\n",
    "            in_section = True\n",
    "        elif num == 8 and in_section:\n",
    "            # print(\"end the section and start adding numbers to the sum again.\")\n",
    "            in_section = False\n",
    "            #print(\"Check\", num + total_sum) #incorrect\n",
    "            #print(\"Check 2\", num += total_sum) #incorrect \n",
    "            #print(\"Correct\", total_sum = total_sum += num)\n",
    "        elif not in_section:    \n",
    "            total_sum += num\n",
    "            #add the current number num to total_sum. This ensures that only numbers outside of the 7-8 sections are included in the sum.\n",
    "       \n",
    "    return total_sum; #which now contains the sum of all valid numbers that are not in any 7-8 sections.\n",
    "\n",
    " # Change \"===\" to \"==\" on line 13.\n",
    "\n",
    " # Change \"===\" to \"==\" on line 13.\n",
    "\n",
    " # Change \"for i in range(nums):\" to \"for num in nums:\" on line 11.\n",
    "\n",
    " # Change \"for num in range(nums):\" to \"for num in nums:\" on line 11.\n",
    "\n",
    " # Fix the invalid syntax on line 20 by changing \"num += total_sum\" to \"total_sum += num\".\n",
    "\n",
    " # Fix the invalid syntax on line 21 by changing \"total_sum += num\" to \"total_sum = total_sum + num\".\n",
    "\n",
    " # Fix the syntax error by changing \"total_sum = total_sum += num\" to \"total_sum += num\" on line 21.\n",
    "\n",
    " # Fix the invalid syntax on line 21 by changing \"total_sum = total_sum += num\" to \"total_sum += num\".\n",
    "\n",
    " # Fix the invalid syntax on line 23 by changing \"total_sum = total_sum += num\" to \"total_sum += num\"."
   ]
  },
  {
   "cell_type": "markdown",
   "metadata": {},
   "source": [
    "Needs improvement:\n",
    "- Balance Speed with Accuracy\n",
    "\n",
    "You took several iterations to reach the correct solution, which could be improved. Try to plan your approach more thoroughly before coding to reduce the number of revisions needed.\n",
    "- Boost Code Efficiency\n",
    "\n",
    "Your initial implementation included unnecessary print statements and comments, which you later removed. In future, focus on writing clean, efficient code from the start to improve your coding speed.\n",
    "- Enhance Code Quality\n",
    "\n",
    "There were some indentation errors in your earlier versions that caused the code to fail. Pay more attention to proper indentation and code formatting from the beginning to avoid such issues."
   ]
  },
  {
   "cell_type": "markdown",
   "metadata": {},
   "source": [
    "Problem Set 2/4, Week 1: Biggest Difference"
   ]
  },
  {
   "cell_type": "markdown",
   "metadata": {},
   "source": [
    "Where You Excel:\n",
    "- You Identified the Solution Well\n",
    "\n",
    "You quickly identified the core solution of finding the difference between the maximum and minimum values in the list. Your implementation using max() and min() functions was straightforward and effective for solving the problem.\n",
    "- You Implemented Code Accurately\n",
    "\n",
    "Your code correctly solved the problem for all given test cases, including the edge case of an empty list. The implementation of the main logic using max_val - min_val was accurate and produced the expected results.\n",
    "- You Structured Your Plan and Thought Process\n",
    "\n",
    "Your code structure was clear with a main if-else block to handle different cases. The comments you left, although some were commented out, show good practice in explaining your thought process and potential improvements.\n"
   ]
  },
  {
   "cell_type": "code",
   "execution_count": null,
   "metadata": {},
   "outputs": [],
   "source": [
    "# Given an array length 1 or more of ints, return the difference between the largest and smallest values in the array. \n",
    "\n",
    "# biggest_diff([10, 3, 5, 6]) → 7\n",
    "# biggest_diff([7, 2, 10, 9]) → 8\n",
    "# biggest_diff([2, 10, 7, 2]) → 8\n",
    "\n",
    "def biggest_diff(nums):\n",
    "    # foo = []\n",
    "    #only activate if statement for base case\n",
    "    # if nums == foo or None:\n",
    "    #      print(max(foo, default='No elements'))\n",
    "\n",
    "    #if activated, change to elif instead of if\n",
    "    if len(nums) > 0:\n",
    "    #if nums.length > 0: #incorrect syntax\n",
    "        #print(\"at least one element\")\n",
    "        max_val = max(nums);\n",
    "        #print(max_val);\n",
    "        min_val = min(nums);\n",
    "        #print(min_val);\n",
    "        diff = max_val - min_val;\n",
    "        #print(\"difference\", diff)\n",
    "        return diff;\n",
    "    else:\n",
    "        # If the list nums is empty or not provided, return 0. This ensures that the function handles edge cases gracefully without errors.\n",
    "        return 0 ;\n",
    "    \n",
    "biggest_diff([]) #base case\n",
    "\n",
    " # Change \"null\" to \"None\" in line 9 to fix the NameError.\n",
    "\n",
    " # Change line 14 to check if the length of 'nums' is greater than 0 to avoid the IndexError.\n",
    "\n",
    " # Change line 14 to \"if len(nums) > 0:\" to properly check the length of the 'nums' list."
   ]
  },
  {
   "cell_type": "markdown",
   "metadata": {},
   "source": [
    "Needs improvement:\n",
    "- Enhance Code Quality\n",
    "\n",
    "Your code could be improved by removing unnecessary semicolons at the end of lines, which are not typically used in Python. Also, consider removing commented-out code and unused variables like 'foo' to enhance readability.\n",
    "- Boost Code Efficiency\n",
    "\n",
    "While your solution works, it could be more efficient by avoiding separate calls to max() and min(). Consider using a single loop to find both the maximum and minimum values, which would be more efficient for larger input lists.\n",
    "- Balance Speed with Accuracy\n",
    "\n",
    "You could improve your working speed by spending less time on commented-out code and focusing on implementing the core solution more quickly. Try to avoid getting sidetracked by edge cases initially and focus on the main problem first."
   ]
  },
  {
   "cell_type": "markdown",
   "metadata": {},
   "source": [
    "Problem Set 3/4, Week 1: Cat and Dog"
   ]
  },
  {
   "cell_type": "code",
   "execution_count": null,
   "metadata": {},
   "outputs": [],
   "source": [
    "#Workbook Code\n",
    "\n"
   ]
  },
  {
   "cell_type": "markdown",
   "metadata": {},
   "source": [
    "Where You Excel:\n"
   ]
  },
  {
   "cell_type": "code",
   "execution_count": null,
   "metadata": {},
   "outputs": [],
   "source": [
    "#Final Code\n"
   ]
  },
  {
   "cell_type": "markdown",
   "metadata": {},
   "source": [
    "Needs Improvement:\n"
   ]
  },
  {
   "cell_type": "markdown",
   "metadata": {},
   "source": [
    "Problem Set 4/4, Week 1: Evenly Spaced"
   ]
  },
  {
   "cell_type": "code",
   "execution_count": null,
   "metadata": {},
   "outputs": [],
   "source": [
    "#Workbook Code\n",
    "\n"
   ]
  },
  {
   "cell_type": "markdown",
   "metadata": {},
   "source": [
    "Where You Excel:\n"
   ]
  },
  {
   "cell_type": "code",
   "execution_count": null,
   "metadata": {},
   "outputs": [],
   "source": [
    "#Final Code\n"
   ]
  },
  {
   "cell_type": "markdown",
   "metadata": {},
   "source": [
    "Needs Improvement:\n"
   ]
  }
 ],
 "metadata": {
  "kernelspec": {
   "display_name": "Python 3",
   "language": "python",
   "name": "python3"
  },
  "language_info": {
   "codemirror_mode": {
    "name": "ipython",
    "version": 3
   },
   "file_extension": ".py",
   "mimetype": "text/x-python",
   "name": "python",
   "nbconvert_exporter": "python",
   "pygments_lexer": "ipython3",
   "version": "3.9.6"
  }
 },
 "nbformat": 4,
 "nbformat_minor": 2
}
