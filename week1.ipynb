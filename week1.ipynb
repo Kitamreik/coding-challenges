{
 "cells": [
  {
   "cell_type": "markdown",
   "metadata": {},
   "source": [
    "This is Week One of the Headstarter internship. Note that you can have print statements to test, however you have to disable them in for problem sets."
   ]
  },
  {
   "cell_type": "markdown",
   "metadata": {},
   "source": [
    "Where You Excel:\n",
    "- You Identified the Solution Well\n",
    "You correctly identified the need for a flag variable (in_section) to track 7-8 sections, which was crucial for the solution. Your implementation of the main logic using if-elif statements was also on point.\n",
    "- You Implemented Code Accurately\n",
    "Your final solution correctly handled all test cases, demonstrating a good understanding of the problem requirements. You successfully implemented the logic to ignore numbers between 7 and 8.\n",
    "- You Structured Your Plan and Thought Process\n",
    "Your code was well-structured with clear variable names like total_sum and in_section. The logic flow was easy to follow, with each condition clearly separated in the if-elif structure."
   ]
  },
  {
   "cell_type": "code",
   "execution_count": 3,
   "metadata": {},
   "outputs": [],
   "source": [
    "# Write a function to return the sum of the numbers in the given array 'nums', except ignore sections of numbers starting with a 7 and extending to the next 8 (every 7 will be followed by at least one 8). \n",
    "# Return 0 for no numbers.\n",
    "\n",
    "# sum78([1, 2, 2]) → 5\n",
    "# sum78([1, 2, 2, 7, 99, 99, 8]) → 5\n",
    "# sum78([1, 1, 7, 8, 2]) → 4\n",
    "\n",
    "def sum78(nums):\n",
    "    total_sum = 0;\n",
    "    in_section = False;\n",
    "    for num in nums:\n",
    "        # print(num) \n",
    "        if num == 7:\n",
    "           # print(\"flag change\")\n",
    "            in_section = True\n",
    "        elif num == 8 and in_section:\n",
    "            # print(\"end the section and start adding numbers to the sum again.\")\n",
    "            in_section = False\n",
    "            #print(\"Check\", num + total_sum) #incorrect\n",
    "            #print(\"Check 2\", num += total_sum) #incorrect \n",
    "            #print(\"Correct\", total_sum = total_sum += num)\n",
    "        elif not in_section:    \n",
    "            total_sum += num\n",
    "            #add the current number num to total_sum. This ensures that only numbers outside of the 7-8 sections are included in the sum.\n",
    "       \n",
    "    return total_sum; #which now contains the sum of all valid numbers that are not in any 7-8 sections.\n",
    "\n",
    " # Change \"===\" to \"==\" on line 13.\n",
    "\n",
    " # Change \"===\" to \"==\" on line 13.\n",
    "\n",
    " # Change \"for i in range(nums):\" to \"for num in nums:\" on line 11.\n",
    "\n",
    " # Change \"for num in range(nums):\" to \"for num in nums:\" on line 11.\n",
    "\n",
    " # Fix the invalid syntax on line 20 by changing \"num += total_sum\" to \"total_sum += num\".\n",
    "\n",
    " # Fix the invalid syntax on line 21 by changing \"total_sum += num\" to \"total_sum = total_sum + num\".\n",
    "\n",
    " # Fix the syntax error by changing \"total_sum = total_sum += num\" to \"total_sum += num\" on line 21.\n",
    "\n",
    " # Fix the invalid syntax on line 21 by changing \"total_sum = total_sum += num\" to \"total_sum += num\".\n",
    "\n",
    " # Fix the invalid syntax on line 23 by changing \"total_sum = total_sum += num\" to \"total_sum += num\"."
   ]
  },
  {
   "cell_type": "markdown",
   "metadata": {},
   "source": [
    "Needs improvement:\n",
    "- Balance Speed with Accuracy\n",
    "You took several iterations to reach the correct solution, which could be improved. Try to plan your approach more thoroughly before coding to reduce the number of revisions needed.\n",
    "- Boost Code Efficiency\n",
    "Your initial implementation included unnecessary print statements and comments, which you later removed. In future, focus on writing clean, efficient code from the start to improve your coding speed.\n",
    "- Enhance Code Quality\n",
    "There were some indentation errors in your earlier versions that caused the code to fail. Pay more attention to proper indentation and code formatting from the beginning to avoid such issues."
   ]
  }
 ],
 "metadata": {
  "kernelspec": {
   "display_name": "Python 3",
   "language": "python",
   "name": "python3"
  },
  "language_info": {
   "codemirror_mode": {
    "name": "ipython",
    "version": 3
   },
   "file_extension": ".py",
   "mimetype": "text/x-python",
   "name": "python",
   "nbconvert_exporter": "python",
   "pygments_lexer": "ipython3",
   "version": "3.9.6"
  }
 },
 "nbformat": 4,
 "nbformat_minor": 2
}
